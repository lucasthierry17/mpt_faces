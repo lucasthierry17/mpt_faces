{
 "cells": [
  {
   "cell_type": "code",
   "execution_count": 1,
   "metadata": {},
   "outputs": [],
   "source": [
    "import numpy as np\n",
    "import cv2 as cv\n",
    "from matplotlib import pyplot as plt\n",
    "import gdown\n",
    "import os\n",
    "import csv"
   ]
  },
  {
   "cell_type": "code",
   "execution_count": null,
   "metadata": {},
   "outputs": [],
   "source": [
    "cap = cv.VideoCapture(0)"
   ]
  },
  {
   "cell_type": "code",
   "execution_count": null,
   "metadata": {},
   "outputs": [],
   "source": [
    "ret, frame = cap.read()"
   ]
  },
  {
   "cell_type": "code",
   "execution_count": null,
   "metadata": {},
   "outputs": [],
   "source": [
    "plt.imshow(frame)"
   ]
  },
  {
   "cell_type": "code",
   "execution_count": null,
   "metadata": {},
   "outputs": [],
   "source": [
    "cap.release()"
   ]
  },
  {
   "cell_type": "code",
   "execution_count": 5,
   "metadata": {},
   "outputs": [
    {
     "name": "stdout",
     "output_type": "stream",
     "text": [
      "XML file already exists.\n"
     ]
    }
   ],
   "source": [
    "# Pfad zur XML-Datei relativ zum Skriptverzeichnis\n",
    "xml_file_path = 'haarcascade_frontalface_default.xml'\n",
    "\n",
    "# Überprüfen, ob die XML-Datei bereits vorhanden ist\n",
    "if not os.path.exists(xml_file_path):\n",
    "    # Wenn die Datei nicht vorhanden ist, laden Sie sie von Google Drive herunter\n",
    "    gdown.download('https://drive.google.com/uc?id=1N5j5ke98qCt_0J70wg6F8diHrF5qqxeX&export=download', xml_file_path, quiet=False)\n",
    "    print(\"XML file downloaded successfully.\")\n",
    "else:\n",
    "    print(\"XML file already exists.\")\n",
    "\n",
    "cap = cv.VideoCapture(0)\n",
    "if not cap.isOpened():\n",
    "    print(\"Cannot open camera\")\n",
    "    exit()\n",
    "    \n",
    "    # Laden der Gesichtserkennungsklassifikatoren\n",
    "face_cascade = cv.CascadeClassifier('haarcascade_frontalface_default.xml')\n",
    "\n",
    "# Create folder to store faces if it doesn't exist\n",
    "objects_folder = 'objects'\n",
    "if not os.path.exists(objects_folder):\n",
    "    os.mkdir(objects_folder)\n",
    "folder = \"test\"\n",
    "person_folder = os.path.join(objects_folder, folder)\n",
    "if not os.path.exists(person_folder):\n",
    "    os.mkdir(person_folder)\n",
    "\n",
    "# Variables for saving mechanism\n",
    "frame_count = 0\n",
    "save_frame = True\n",
    "\n",
    "while True:\n",
    "    # Capture frame-by-frame\n",
    "    ret, frame = cap.read()\n",
    "    if not ret:\n",
    "        print(\"Can't receive frame (stream end?). Exiting ...\")\n",
    "        break\n",
    "\n",
    "    # Convert frame to grayscale\n",
    "    gray = cv.cvtColor(frame, cv.COLOR_BGR2GRAY)\n",
    "\n",
    "    # Detect faces\n",
    "    faces = face_cascade.detectMultiScale(gray, 1.3, 5)\n",
    "\n",
    "    # Draw rectangle around faces and save images\n",
    "    for (x, y, w, h) in faces:\n",
    "        cv.rectangle(frame, (x, y), (x + w, y + h), (255, 0, 0), 2)\n",
    "        if save_frame:\n",
    "            cv.imwrite(os.path.join(person_folder, f\"frame_{frame_count}.png\"), frame)\n",
    "            with open(os.path.join(person_folder, f\"frame_{frame_count}.csv\"), \"w\", newline=\"\") as csvfile:\n",
    "                writer = csv.writer(csvfile, delimiter=\",\")\n",
    "                writer.writerow([x, y, w, h])\n",
    "            frame_count += 1\n",
    "            if frame_count >= 30:\n",
    "                save_frame = False\n",
    "\n",
    "    # Show frame with faces\n",
    "    cv.imshow('frame', frame)\n",
    "\n",
    "    # Check for 'q' key to quit\n",
    "    if cv.waitKey(1) == ord('q'):\n",
    "        break\n",
    "\n",
    "# Release video capture and close all windows\n",
    "cap.release()\n",
    "cv.destroyAllWindows()"
   ]
  }
 ],
 "metadata": {
  "kernelspec": {
   "display_name": "Python 3",
   "language": "python",
   "name": "python3"
  },
  "language_info": {
   "codemirror_mode": {
    "name": "ipython",
    "version": 3
   },
   "file_extension": ".py",
   "mimetype": "text/x-python",
   "name": "python",
   "nbconvert_exporter": "python",
   "pygments_lexer": "ipython3",
   "version": "3.9.16"
  }
 },
 "nbformat": 4,
 "nbformat_minor": 2
}
